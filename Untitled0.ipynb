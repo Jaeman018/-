{
  "nbformat": 4,
  "nbformat_minor": 0,
  "metadata": {
    "colab": {
      "provenance": []
    },
    "kernelspec": {
      "name": "python3",
      "display_name": "Python 3"
    },
    "language_info": {
      "name": "python"
    }
  },
  "cells": [
    {
      "cell_type": "code",
      "execution_count": 1,
      "metadata": {
        "colab": {
          "base_uri": "https://localhost:8080/"
        },
        "id": "95uZWC6RxScy",
        "outputId": "42871390-2cef-40a2-f832-c20717fe15f5"
      },
      "outputs": [
        {
          "output_type": "stream",
          "name": "stdout",
          "text": [
            "이름은 :정재용, 전화번호는 : 010-4345-0452\n"
          ]
        }
      ],
      "source": [
        "print(\"이름은 :정재용, 전화번호는 : 010-4345-0452\")"
      ]
    }
  ]
}